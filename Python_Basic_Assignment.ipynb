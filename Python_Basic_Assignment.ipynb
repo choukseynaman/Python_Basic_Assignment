{
 "cells": [
  {
   "cell_type": "code",
   "execution_count": 1,
   "id": "a0425846-dd62-4b65-974c-f47f6a4c7078",
   "metadata": {},
   "outputs": [],
   "source": [
    "#Python Basics"
   ]
  },
  {
   "cell_type": "code",
   "execution_count": null,
   "id": "9dbf34ba-9bed-46e5-833b-ebd32bf082f2",
   "metadata": {},
   "outputs": [],
   "source": []
  },
  {
   "cell_type": "markdown",
   "id": "f02cbe11-34ac-4d43-a73a-ee5979ce61ed",
   "metadata": {},
   "source": [
    "#Que1: Explain the key features of Python that make it a popular choice for programming.\n",
    "\n",
    "Ans: Python popularity as a programming language is driven by many key features:\n",
    "    1.Readability and simplicicty: Python syntax is clear and easy to understand to make easy to learn as compare to other languages.\n",
    "    2.Libraries: Python comes with comprehensive standard library that provide module and functions for extensive use and reducing the need of external libraries.\n",
    "    3.Platform compatibility: python is cross- platform,that mean we can write code on one operating system and can often run without modification pn others like macOD ,linus.\n",
    "    4.Large active community: Pyhton has large ,active community that contribute to a vast ecosystem of libraries and frameworks.\n",
    "    5.Interpreted language: As an interpreted language,python allows for quick iteration and testing,which speed up the development preocess."
   ]
  },
  {
   "cell_type": "code",
   "execution_count": null,
   "id": "2c51c0b2-0254-4c7c-ac07-5c659275b9dc",
   "metadata": {},
   "outputs": [],
   "source": [
    "\n"
   ]
  },
  {
   "cell_type": "markdown",
   "id": "85e5e79e-96d3-447d-8783-efbbb5fcdba6",
   "metadata": {},
   "source": [
    "#Que2:Describe the role of predefined keywords in Python and provide examples of how they are used in a program.\n",
    "\n",
    "#Ans: Predefined keywords in python are reserved words and these keywords cannot used as identifiers  like variable names and\n",
    "functions.because its definethe operations,control folw,data structure and other essential elements of python programs.\n",
    "Role of predefine keywords are defining control flow of programs, datatypes, defining function defination,Logical operation,class and object handling, exception handling and importing modules etc. \n",
    "There are various type of predefined keywords are:\n",
    "    1.And.or,and not is used for logical operation.\n",
    "    2.If,else,elif,for, while,break and continue is used for control the flow of excution in  python programs.\n",
    "    3.True,False,and none is for fundamental data values.\n"
   ]
  },
  {
   "cell_type": "code",
   "execution_count": 4,
   "id": "43b4df2f-e5e2-4ace-9a6f-622a48d1f82c",
   "metadata": {},
   "outputs": [
    {
     "name": "stdout",
     "output_type": "stream",
     "text": [
      "You are adult\n"
     ]
    }
   ],
   "source": [
    "#Example for predefined key words0:\n",
    "\n",
    "#example 1:In this example I am using \"if\" keyword for control the satetment\n",
    "\n",
    "age=18\n",
    "if age<=18:\n",
    "    print(\"You are adult\")\n",
    "else:\n",
    "    print(\"Yor are a minor\")"
   ]
  },
  {
   "cell_type": "code",
   "execution_count": 5,
   "id": "2cfd5abd-dac0-4723-ab49-035c1430b5ae",
   "metadata": {},
   "outputs": [
    {
     "name": "stdout",
     "output_type": "stream",
     "text": [
      "* * * * \n",
      "* * * * \n",
      "* * * * \n",
      "* * * * \n"
     ]
    }
   ],
   "source": [
    "# example 2:\n",
    "for i in range(4):\n",
    "    for j in range(4):\n",
    "        print(\"*\",end=\" \")\n",
    "    print()\n"
   ]
  },
  {
   "cell_type": "code",
   "execution_count": 1,
   "id": "8b3122ee-fc9d-4bd2-89d9-38b27f1e997f",
   "metadata": {},
   "outputs": [
    {
     "name": "stdout",
     "output_type": "stream",
     "text": [
      "hello world\n"
     ]
    }
   ],
   "source": [
    "print(\"hello world\")"
   ]
  },
  {
   "cell_type": "code",
   "execution_count": null,
   "id": "5e4d3bcc-05fb-48eb-b933-82fc9ec775b5",
   "metadata": {},
   "outputs": [],
   "source": [
    "\n"
   ]
  },
  {
   "cell_type": "raw",
   "id": "ea5c5237-a3e8-4964-bc3d-f555946c0bdf",
   "metadata": {},
   "source": [
    "# QUE3: Compare and contrast mutable and immutable objects in Python with examples.\n",
    "\n",
    "#Ans: Immutable objects: Immutable objects are those whose state cannot be modified after they are creatad,it cannot be changed.\n",
    "      Mutable objects:Mutable objects in Python are those whose state or contents can be changed after they are created\n",
    "     "
   ]
  },
  {
   "cell_type": "code",
   "execution_count": 3,
   "id": "15a630b4-670e-496c-ad0d-f8fd7c2c7f7c",
   "metadata": {},
   "outputs": [
    {
     "ename": "TypeError",
     "evalue": "'str' object does not support item assignment",
     "output_type": "error",
     "traceback": [
      "\u001b[0;31m---------------------------------------------------------------------------\u001b[0m",
      "\u001b[0;31mTypeError\u001b[0m                                 Traceback (most recent call last)",
      "Cell \u001b[0;32mIn[3], line 4\u001b[0m\n\u001b[1;32m      1\u001b[0m \u001b[38;5;66;03m#example1: strings\u001b[39;00m\n\u001b[1;32m      3\u001b[0m name \u001b[38;5;241m=\u001b[39m \u001b[38;5;124m\"\u001b[39m\u001b[38;5;124mPwskills\u001b[39m\u001b[38;5;124m\"\u001b[39m\n\u001b[0;32m----> 4\u001b[0m \u001b[43mname\u001b[49m\u001b[43m[\u001b[49m\u001b[38;5;241;43m4\u001b[39;49m\u001b[43m]\u001b[49m\u001b[38;5;241m=\u001b[39m\u001b[38;5;124m\"\u001b[39m\u001b[38;5;124mw\u001b[39m\u001b[38;5;124m\"\u001b[39m\n",
      "\u001b[0;31mTypeError\u001b[0m: 'str' object does not support item assignment"
     ]
    }
   ],
   "source": [
    "#example1 of immutable objects: strings: it does not support item assignment,After creating object we can't modified it.\n",
    "\n",
    "name = \"Pwskills\"\n",
    "name[4]=\"w\""
   ]
  },
  {
   "cell_type": "code",
   "execution_count": 5,
   "id": "ce125143-2ca1-4b10-86c8-2a5c35bbb16c",
   "metadata": {},
   "outputs": [
    {
     "name": "stdout",
     "output_type": "stream",
     "text": [
      "['Pwskills', 1, 2, 3, 4, 'data scince']\n"
     ]
    }
   ],
   "source": [
    "# Example of Mutable objects: List is mutable ,after creating list we can change value of it.\n",
    "\n",
    "list=[\"Pwskills\",1,2,3,4,\"data scince\"]\n",
    "print(list)"
   ]
  },
  {
   "cell_type": "code",
   "execution_count": 7,
   "id": "bb0f8da6-4a3f-4ead-b93e-471023506b9f",
   "metadata": {},
   "outputs": [],
   "source": [
    "list[5]=\"data science with gen AI\""
   ]
  },
  {
   "cell_type": "code",
   "execution_count": 8,
   "id": "9b0ece79-0342-46b5-abda-b8ef1416d3fc",
   "metadata": {},
   "outputs": [
    {
     "name": "stdout",
     "output_type": "stream",
     "text": [
      "['Pwskills', 1, 2, 3, 4, 'data science with gen AI']\n"
     ]
    }
   ],
   "source": [
    "print(list)"
   ]
  },
  {
   "cell_type": "code",
   "execution_count": null,
   "id": "e1d318d2-cf33-48b3-b3a2-6b86bebcca6c",
   "metadata": {},
   "outputs": [],
   "source": []
  },
  {
   "cell_type": "code",
   "execution_count": null,
   "id": "75ca109d-06e9-4379-9834-57d0bb3488ee",
   "metadata": {},
   "outputs": [],
   "source": []
  },
  {
   "cell_type": "raw",
   "id": "7a1ac87e-9ddf-4fb0-aeb6-30b991f490e3",
   "metadata": {},
   "source": [
    "#Que4: Discuss the different types of operators in Python and provide examples of how they are used.\n",
    "\n",
    "#Ans:\n",
    "    Python provides a variety of operators to perform operations on variables and values. These operators can be classified into several categories:"
   ]
  },
  {
   "cell_type": "code",
   "execution_count": 3,
   "id": "228fbc3f-c999-4450-a1ef-81c15f92cf05",
   "metadata": {},
   "outputs": [
    {
     "name": "stdout",
     "output_type": "stream",
     "text": [
      "10\n",
      "0\n",
      "25\n",
      "1.0\n"
     ]
    }
   ],
   "source": [
    "#1.Arithmatic Operator: These operators are used to perform basic arithmetic operations.\n",
    "#.Addition(+),Subtraction(-),Multiplication(*),Divide(/):\n",
    "a=5\n",
    "b=5\n",
    "print(a+b)\n",
    "print(a-b)\n",
    "print(a*b)\n",
    "print(a/b)\n"
   ]
  },
  {
   "cell_type": "code",
   "execution_count": 4,
   "id": "11e9a6ea-d879-4e7d-842c-943381c8b482",
   "metadata": {},
   "outputs": [
    {
     "name": "stdout",
     "output_type": "stream",
     "text": [
      "1\n"
     ]
    }
   ],
   "source": [
    "#2. modulas(%) operator: Return the reminder of division:\n",
    "a=13\n",
    "b=3\n",
    "print(a%b)"
   ]
  },
  {
   "cell_type": "code",
   "execution_count": 5,
   "id": "0b87878e-48e6-4558-bd08-5aae919342a7",
   "metadata": {},
   "outputs": [
    {
     "name": "stdout",
     "output_type": "stream",
     "text": [
      "4782969\n"
     ]
    }
   ],
   "source": [
    "#3.Exponencial: (**): Raises one value to the power of another\n",
    "\n",
    "print(3**14)"
   ]
  },
  {
   "cell_type": "code",
   "execution_count": 6,
   "id": "f2f7d7dc-8db7-4218-96cb-4907b9f95058",
   "metadata": {},
   "outputs": [
    {
     "name": "stdout",
     "output_type": "stream",
     "text": [
      "False\n",
      "True\n",
      "False\n",
      "True\n"
     ]
    }
   ],
   "source": [
    "#4:Comparision operator:(\"==\",\"<=\",\">=\",\"!=\"):  These operators compare two values and return a boolean result (True or False).\n",
    "a=4\n",
    "b=5\n",
    "print(a==b)\n",
    "print(a<=b)\n",
    "print(a>=b)\n",
    "print(a!=b)"
   ]
  },
  {
   "cell_type": "code",
   "execution_count": 7,
   "id": "7016e340-ce9d-40b1-89b4-312a72b2c2c0",
   "metadata": {},
   "outputs": [
    {
     "data": {
      "text/plain": [
       "4.333333333333333"
      ]
     },
     "execution_count": 7,
     "metadata": {},
     "output_type": "execute_result"
    }
   ],
   "source": [
    "#5Floor operator(//):It is uses to give new=arest int value.\n",
    "\n",
    "13/3\n"
   ]
  },
  {
   "cell_type": "code",
   "execution_count": 8,
   "id": "12ea377b-eb79-41b6-ac11-e9090eed8ef9",
   "metadata": {},
   "outputs": [
    {
     "data": {
      "text/plain": [
       "4"
      ]
     },
     "execution_count": 8,
     "metadata": {},
     "output_type": "execute_result"
    }
   ],
   "source": [
    "#if we use floor operator:\n",
    "13//3"
   ]
  },
  {
   "cell_type": "code",
   "execution_count": 13,
   "id": "efe521bd-7206-47f2-b47f-1458ef2ca534",
   "metadata": {},
   "outputs": [
    {
     "name": "stdout",
     "output_type": "stream",
     "text": [
      "True\n",
      "True\n",
      "False\n"
     ]
    }
   ],
   "source": [
    "#6. Logical operator(And,or,not): These operators are used to combine conditional statements.\n",
    "\n",
    "a = 10\n",
    "b = 5\n",
    "print(a > 5 and b < 10)\n",
    "print(a > 5 or b < 10)\n",
    "print(not (a > 5)) "
   ]
  },
  {
   "cell_type": "raw",
   "id": "4a068d95-6dc9-471e-9169-eff077b9b362",
   "metadata": {},
   "source": [
    "#7: Assignment operator('=','+=','-=','*=','/='):These operators are used to assign values to variables.\n",
    "a=6\n",
    "a+=5\n",
    "a-=5\n",
    "a*=5\n",
    "a/=5\n",
    "\n"
   ]
  },
  {
   "cell_type": "code",
   "execution_count": 20,
   "id": "c980f18c-e9ea-4c89-9c58-7a7e02a0793a",
   "metadata": {},
   "outputs": [],
   "source": [
    "#8Membership operator:These operators test for membership in a sequence."
   ]
  },
  {
   "cell_type": "code",
   "execution_count": 21,
   "id": "05b47eb1-9028-44e1-a9aa-f04ea7d79356",
   "metadata": {},
   "outputs": [
    {
     "name": "stdout",
     "output_type": "stream",
     "text": [
      "True\n"
     ]
    }
   ],
   "source": [
    "a = [1, 2, 3]\n",
    "print(2 in a)\n"
   ]
  },
  {
   "cell_type": "code",
   "execution_count": 22,
   "id": "eb115391-51bf-4d9c-8863-008ffc7d43a4",
   "metadata": {},
   "outputs": [
    {
     "name": "stdout",
     "output_type": "stream",
     "text": [
      "True\n"
     ]
    }
   ],
   "source": [
    "a = [1, 2, 3]\n",
    "print(4 not in a) \n"
   ]
  },
  {
   "cell_type": "code",
   "execution_count": null,
   "id": "c8df3720-e615-4a57-9e6a-425a1bbd9812",
   "metadata": {},
   "outputs": [],
   "source": []
  },
  {
   "cell_type": "code",
   "execution_count": 23,
   "id": "9f4ec2c9-0c79-43f2-8c44-70bae3dbb209",
   "metadata": {},
   "outputs": [
    {
     "data": {
      "text/plain": [
       "True"
      ]
     },
     "execution_count": 23,
     "metadata": {},
     "output_type": "execute_result"
    }
   ],
   "source": [
    "#9 identity operator: Compare loaction of 2 objectsin memory of variable.\n",
    "a=5\n",
    "b=5\n",
    "a is b"
   ]
  },
  {
   "cell_type": "code",
   "execution_count": 25,
   "id": "c5c97874-408b-4f75-b6cd-51526a17470d",
   "metadata": {},
   "outputs": [
    {
     "data": {
      "text/plain": [
       "False"
      ]
     },
     "execution_count": 25,
     "metadata": {},
     "output_type": "execute_result"
    }
   ],
   "source": [
    "a is not b"
   ]
  },
  {
   "cell_type": "code",
   "execution_count": 26,
   "id": "263c2b7a-3aed-4cfb-9f90-c2af4f5b1470",
   "metadata": {},
   "outputs": [
    {
     "name": "stdout",
     "output_type": "stream",
     "text": [
      "1\n"
     ]
    }
   ],
   "source": [
    "#10 Bitwise operator:(&,|,^,~): These operators perform bitwise operations on integer values.\n",
    "\n",
    "#AND (&): Performs a bitwise AND operation.\n",
    "a = 5  # 0b0101\n",
    "b = 3  # 0b0011\n",
    "print(a & b)  # Output: 1 (0b0001)\n",
    "\n"
   ]
  },
  {
   "cell_type": "code",
   "execution_count": 28,
   "id": "a64325b1-4168-44e7-bb22-9761aaa86a21",
   "metadata": {},
   "outputs": [
    {
     "name": "stdout",
     "output_type": "stream",
     "text": [
      "7\n"
     ]
    }
   ],
   "source": [
    "#OR (|): Performs a bitwise OR operation.\n",
    "a = 5  # 0b0101\n",
    "b = 3  # 0b0011\n",
    "print(a | b)  # Output: 7 (0b0111)\n"
   ]
  },
  {
   "cell_type": "code",
   "execution_count": 29,
   "id": "ecd126e6-bd2e-46f8-93e9-94a4f49c5be8",
   "metadata": {},
   "outputs": [
    {
     "name": "stdout",
     "output_type": "stream",
     "text": [
      "6\n"
     ]
    }
   ],
   "source": [
    "#XOR (^): Performs a bitwise XOR operation.\n",
    "a = 5  # 0b0101\n",
    "b = 3  # 0b0011\n",
    "print(a ^ b)  # output: 6 (0b0110)\n"
   ]
  },
  {
   "cell_type": "code",
   "execution_count": 31,
   "id": "5deb940a-43f3-4124-bef7-1cf1b9e5ccd3",
   "metadata": {},
   "outputs": [
    {
     "name": "stdout",
     "output_type": "stream",
     "text": [
      "-6\n"
     ]
    }
   ],
   "source": [
    "#Complement (~): Performs a bitwise NOT operation\n",
    "\n",
    "a = 5  # 0b0101\n",
    "print(~a)  # Output: -6 (in binary: 0b1010, considering two's complement representation)\n"
   ]
  },
  {
   "cell_type": "code",
   "execution_count": 33,
   "id": "00670688-bb02-4e1a-a613-f034f40bc792",
   "metadata": {},
   "outputs": [
    {
     "name": "stdout",
     "output_type": "stream",
     "text": [
      "10\n"
     ]
    }
   ],
   "source": [
    "# Left Shift (<<): Shifts bits of a number to the left.\n",
    "\n",
    "a = 5  # 0b0101\n",
    "print(a << 1)  # Output: 10 (0b1010)\n"
   ]
  },
  {
   "cell_type": "code",
   "execution_count": 34,
   "id": "7e138f59-551f-44c9-8d9d-663cd7f7a8cc",
   "metadata": {},
   "outputs": [
    {
     "name": "stdout",
     "output_type": "stream",
     "text": [
      "2\n"
     ]
    }
   ],
   "source": [
    "# Right Shift (>>): Shifts bits of a number to the right.\n",
    "a = 5  # 0b0101\n",
    "print(a >> 1)  # Output: 2 (0b0010)\n"
   ]
  },
  {
   "cell_type": "code",
   "execution_count": null,
   "id": "e9ce074a-28fe-4f8d-af34-f4b52814e537",
   "metadata": {},
   "outputs": [],
   "source": []
  },
  {
   "cell_type": "code",
   "execution_count": null,
   "id": "ba0fada9-5067-4f6a-82a9-ff1e3796b613",
   "metadata": {},
   "outputs": [],
   "source": []
  },
  {
   "cell_type": "raw",
   "id": "a92f3fa1-af26-4ee9-986f-14b7e88e5cbe",
   "metadata": {},
   "source": [
    "#Que 5: explain the concept of type casting in Python with examples.\n",
    "\n",
    "#ans: Type casting  is the process of converting one data type into another. In Python, this is done using built-in functions that allow you to change the type of a variable or value to a different type.\n",
    "\n",
    "We can convert datatype through int(),str(),float(),bool()etc.\n",
    "but we cannot convert string data values which is in character formate like\"Pwskills\" to other data type like int, float.\n",
    "\n"
   ]
  },
  {
   "cell_type": "code",
   "execution_count": 38,
   "id": "1739ae96-8c2b-4c7c-baa8-4eb358bfef0d",
   "metadata": {},
   "outputs": [
    {
     "name": "stdout",
     "output_type": "stream",
     "text": [
      "5.0\n"
     ]
    }
   ],
   "source": [
    "#Int to float conversion: like this we can convert other datatype as well.\n",
    "a=5\n",
    "print(float(a))\n"
   ]
  },
  {
   "cell_type": "code",
   "execution_count": null,
   "id": "90289b81-1255-476b-8ccd-c48f928e41cc",
   "metadata": {},
   "outputs": [],
   "source": []
  },
  {
   "cell_type": "code",
   "execution_count": null,
   "id": "995f4cf1-1f04-40a9-83e9-e6060518420e",
   "metadata": {},
   "outputs": [],
   "source": []
  },
  {
   "cell_type": "raw",
   "id": "055e25bd-8f39-4af9-b542-868ecd57b988",
   "metadata": {},
   "source": [
    "#Que 6:How do conditional statements work in Python? Illustrate with examples.\n",
    "\n",
    "#ans: Conditional statements in Python allow you to execute certain blocks of code based on specific conditions. They are essential for controlling the flow of a program and making decisions. Python uses several types of conditional statements, primarily if, elif, and else.\n",
    "\n",
    "#if statement:The 'if' statement evaluate a condition ,if the condition is 'true' then block of code inside if statement will execute."
   ]
  },
  {
   "cell_type": "code",
   "execution_count": 2,
   "id": "5619a266-3594-4041-a8ac-30fc84648d44",
   "metadata": {},
   "outputs": [
    {
     "name": "stdout",
     "output_type": "stream",
     "text": [
      "a is greater then 2\n"
     ]
    }
   ],
   "source": [
    "#example 'if tsatement:\n",
    "a=5\n",
    "if a>2:\n",
    "    print(\"a is greater then 2\")\n"
   ]
  },
  {
   "cell_type": "code",
   "execution_count": 5,
   "id": "bd8ea980-6c3a-4ab5-9f78-d2e8e22ba5f6",
   "metadata": {},
   "outputs": [
    {
     "name": "stdout",
     "output_type": "stream",
     "text": [
      "a is lower then 5\n"
     ]
    }
   ],
   "source": [
    "# if-else statement:In this else statement follows a if statment and execute 'else' block of code if 'if'condition is false.\n",
    "\n",
    "a=3\n",
    "if a>5:\n",
    "    print(\"a is greater then 5\")\n",
    "else:\n",
    "    print(\"a is lower then 5\")"
   ]
  },
  {
   "cell_type": "code",
   "execution_count": 8,
   "id": "8cb93408-a5d1-4c26-a224-46c15e7f141a",
   "metadata": {},
   "outputs": [
    {
     "name": "stdout",
     "output_type": "stream",
     "text": [
      "i will watch a tv\n"
     ]
    }
   ],
   "source": [
    "#if-elif-else statement: if we have a multiple condition in a program to check then we will use 'elif' statement.\n",
    "\n",
    "whether='sunny'\n",
    "if whether=='rainy':\n",
    "    print(\"I will not go for play\")\n",
    "elif whether=='sunny':\n",
    "    print(\"i will go for play\")\n",
    "else:\n",
    "    print(\"i will watch a tv\")"
   ]
  },
  {
   "cell_type": "code",
   "execution_count": 10,
   "id": "a1fa1244-c79a-4838-bc36-d166a1c1a0a3",
   "metadata": {},
   "outputs": [
    {
     "name": "stdout",
     "output_type": "stream",
     "text": [
      "x is between 5 and 10\n"
     ]
    }
   ],
   "source": [
    "#Nested if else condition:we can nest conditional statements within each other to check multiple layers of conditions.\n",
    "\n",
    "x = 7\n",
    "if x > 5:\n",
    "    if x < 10:\n",
    "        print(\"x is between 5 and 10\")\n",
    "    else:\n",
    "        print(\"x is 10 or more\")\n",
    "else:\n",
    "    print(\"x is 5 or less\")\n"
   ]
  },
  {
   "cell_type": "code",
   "execution_count": null,
   "id": "913bd819-cc49-46e9-9a5a-901d577ca55b",
   "metadata": {},
   "outputs": [],
   "source": []
  },
  {
   "cell_type": "code",
   "execution_count": null,
   "id": "b18c57c1-149c-4c39-a22b-61c1974d7908",
   "metadata": {},
   "outputs": [],
   "source": []
  },
  {
   "cell_type": "raw",
   "id": "0262e402-4f5c-4cb4-bedc-d63c4b576877",
   "metadata": {},
   "source": [
    "#Que 7 : Describe the different types of loops in Python and their use cases with examples\n",
    "\n",
    "#ans: Loops in python allows you to iterate block of code multiple time based on certain condition.Mainly we have two types of loops, \"for\", \"while\".\n",
    "\n",
    "#'for' loop: the 'for' iterate over a sequesnce (list,range,tuple,and string) and execute a bloack of code for each item in a sequence.\n"
   ]
  },
  {
   "cell_type": "code",
   "execution_count": 11,
   "id": "f71c7a91-1a25-4e49-9694-ac9c65439a47",
   "metadata": {},
   "outputs": [
    {
     "name": "stdout",
     "output_type": "stream",
     "text": [
      "P\n",
      "W\n",
      "S\n",
      "K\n",
      "I\n",
      "L\n",
      "L\n",
      "S\n"
     ]
    }
   ],
   "source": [
    "# Example1 'for' loop : \n",
    "#use case: Traversing through characters in a string.\n",
    "\n",
    "for i in 'PWSKILLS':\n",
    "    print(i)"
   ]
  },
  {
   "cell_type": "code",
   "execution_count": 12,
   "id": "0c5fb2e2-737b-45da-acf8-5a049bc6a96e",
   "metadata": {},
   "outputs": [
    {
     "name": "stdout",
     "output_type": "stream",
     "text": [
      "* \n",
      "* * \n",
      "* * * \n",
      "* * * * \n",
      "* * * * * \n"
     ]
    }
   ],
   "source": [
    "#Example 2 'for' loop:\n",
    "#Use case:print a right tringle with *.\n",
    "\n",
    "for i in range(5):\n",
    "    for j in range(i+1):\n",
    "        print(\"*\",end=\" \")\n",
    "    print()"
   ]
  },
  {
   "cell_type": "code",
   "execution_count": 13,
   "id": "4223ac0a-ef68-4046-8f95-87d26793b8dc",
   "metadata": {},
   "outputs": [
    {
     "name": "stdout",
     "output_type": "stream",
     "text": [
      "* \n",
      "* * \n",
      "* * * \n",
      "* * * * \n",
      "* * * * * \n"
     ]
    }
   ],
   "source": [
    "# 'While' loop statement:  the while loop repeatdly execute the block of code until as long as condtion is 'true'.\n",
    "\n",
    "#Example 1: Use case:print a right tringle with *.\n",
    "\n",
    "row=1\n",
    "while row<=5:\n",
    "    col=1\n",
    "    while col<=row:\n",
    "        print(\"*\",end=\" \")\n",
    "        col=col+1\n",
    "    print()\n",
    "    row=row+1"
   ]
  },
  {
   "cell_type": "code",
   "execution_count": 15,
   "id": "e995b447-a42c-4ad3-921c-8dbfe21a6437",
   "metadata": {},
   "outputs": [
    {
     "name": "stdout",
     "output_type": "stream",
     "text": [
      "0\n",
      "1\n",
      "2\n",
      "3\n",
      "4\n"
     ]
    }
   ],
   "source": [
    "#Use case 2: while loop: When you don’t know in advance how many times you need to iterate\n",
    "\n",
    "\n",
    "count = 0\n",
    "while count < 5:\n",
    "    print(count)\n",
    "    count += 1\n"
   ]
  },
  {
   "cell_type": "code",
   "execution_count": null,
   "id": "3e1d5c41-7c35-48a3-b92e-b1c2f22852dd",
   "metadata": {},
   "outputs": [],
   "source": []
  },
  {
   "cell_type": "code",
   "execution_count": null,
   "id": "a8c9dbe2-d9e6-40bb-b123-143d2b471942",
   "metadata": {},
   "outputs": [],
   "source": []
  },
  {
   "cell_type": "code",
   "execution_count": null,
   "id": "1df35a8b-74a9-49d8-ab31-e12b553067b0",
   "metadata": {},
   "outputs": [],
   "source": []
  }
 ],
 "metadata": {
  "kernelspec": {
   "display_name": "Python 3 (ipykernel)",
   "language": "python",
   "name": "python3"
  },
  "language_info": {
   "codemirror_mode": {
    "name": "ipython",
    "version": 3
   },
   "file_extension": ".py",
   "mimetype": "text/x-python",
   "name": "python",
   "nbconvert_exporter": "python",
   "pygments_lexer": "ipython3",
   "version": "3.10.8"
  }
 },
 "nbformat": 4,
 "nbformat_minor": 5
}
